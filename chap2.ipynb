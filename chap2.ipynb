{
 "cells": [
  {
   "metadata": {},
   "cell_type": "markdown",
   "source": "Stuff I'm testing out in chapter 2 because I'm curious sometimes",
   "id": "62506bf082f222ca"
  },
  {
   "cell_type": "code",
   "id": "initial_id",
   "metadata": {
    "collapsed": true,
    "ExecuteTime": {
     "end_time": "2024-06-04T20:08:07.060730Z",
     "start_time": "2024-06-04T20:08:07.058037Z"
    }
   },
   "source": [
    "for i in [1,2,3,4,5]:\n",
    "    \n",
    "    print(i)"
   ],
   "outputs": [
    {
     "name": "stdout",
     "output_type": "stream",
     "text": [
      "1\n",
      "2\n",
      "3\n",
      "4\n",
      "5\n"
     ]
    }
   ],
   "execution_count": 7
  },
  {
   "metadata": {
    "ExecuteTime": {
     "end_time": "2024-06-04T20:10:48.100375Z",
     "start_time": "2024-06-04T20:10:48.095897Z"
    }
   },
   "cell_type": "code",
   "source": [
    "match = 10\n",
    "from re import *\n",
    "print(match)"
   ],
   "id": "94d41964fd430e60",
   "outputs": [
    {
     "name": "stdout",
     "output_type": "stream",
     "text": [
      "<function match at 0x100d65c60>\n"
     ]
    }
   ],
   "execution_count": 8
  },
  {
   "metadata": {
    "ExecuteTime": {
     "end_time": "2024-06-04T20:14:39.546793Z",
     "start_time": "2024-06-04T20:14:39.541490Z"
    }
   },
   "cell_type": "code",
   "source": [
    "def double(x):\n",
    "    return x * 2\n",
    "\n",
    "def apply_to_one(f):\n",
    "    return f(2)\n",
    "\n",
    "my_double = double\n",
    "x = apply_to_one(my_double)\n",
    "\n",
    "print(x)"
   ],
   "id": "d07bd0ab92abdf2e",
   "outputs": [
    {
     "name": "stdout",
     "output_type": "stream",
     "text": [
      "4\n"
     ]
    }
   ],
   "execution_count": 9
  },
  {
   "metadata": {
    "ExecuteTime": {
     "end_time": "2024-06-04T20:26:04.341575Z",
     "start_time": "2024-06-04T20:26:04.337644Z"
    }
   },
   "cell_type": "code",
   "source": [
    "x = [1,2,3,4,5,6,7,8,9]\n",
    "\n",
    "x[::-1] # swap frist to last etc."
   ],
   "id": "1857c1b68fcd67b6",
   "outputs": [
    {
     "data": {
      "text/plain": [
       "[9, 8, 7, 6, 5, 4, 3, 2, 1]"
      ]
     },
     "execution_count": 33,
     "metadata": {},
     "output_type": "execute_result"
    }
   ],
   "execution_count": 33
  },
  {
   "metadata": {
    "ExecuteTime": {
     "end_time": "2024-06-04T20:43:55.139325Z",
     "start_time": "2024-06-04T20:43:55.137209Z"
    }
   },
   "cell_type": "code",
   "source": [
    "x = \"\"\n",
    "\n",
    "if x:\n",
    "    print('hi')"
   ],
   "id": "79a46b628b9b132c",
   "outputs": [],
   "execution_count": 49
  },
  {
   "metadata": {
    "ExecuteTime": {
     "end_time": "2024-06-04T20:52:06.620312Z",
     "start_time": "2024-06-04T20:52:06.613595Z"
    }
   },
   "cell_type": "code",
   "source": [
    "# increasing pairs\n",
    "\n",
    "increasing_pairs = [\n",
    "    (a,b) for a in range(5)\n",
    "    for b in range(a+1,5)\n",
    "]\n",
    "\n",
    "print(increasing_pairs)"
   ],
   "id": "3e79f5e07bffdeae",
   "outputs": [
    {
     "name": "stdout",
     "output_type": "stream",
     "text": [
      "[(0, 1), (0, 2), (0, 3), (0, 4), (1, 2), (1, 3), (1, 4), (2, 3), (2, 4), (3, 4)]\n"
     ]
    }
   ],
   "execution_count": 52
  },
  {
   "metadata": {},
   "cell_type": "code",
   "outputs": [],
   "execution_count": null,
   "source": "",
   "id": "ab52f1a2edb6d89d"
  }
 ],
 "metadata": {
  "kernelspec": {
   "display_name": "Python 3",
   "language": "python",
   "name": "python3"
  },
  "language_info": {
   "codemirror_mode": {
    "name": "ipython",
    "version": 2
   },
   "file_extension": ".py",
   "mimetype": "text/x-python",
   "name": "python",
   "nbconvert_exporter": "python",
   "pygments_lexer": "ipython2",
   "version": "2.7.6"
  }
 },
 "nbformat": 4,
 "nbformat_minor": 5
}
